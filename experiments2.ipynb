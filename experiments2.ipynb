{
 "cells": [
  {
   "cell_type": "code",
   "execution_count": 44,
   "id": "0838d4f5-5350-4679-99c4-79c910dff505",
   "metadata": {},
   "outputs": [],
   "source": [
    "from IPython.display import display, SVG\n",
    "from typing import Optional, Sequence\n",
    "import dataclasses\n",
    "import math\n",
    "\n",
    "from typesetting import ParagraphItem, ParagraphItemType, Font, Glyph"
   ]
  },
  {
   "cell_type": "markdown",
   "id": "1e8fc00a-5a71-4d0f-b35d-769a072ae0b0",
   "metadata": {},
   "source": [
    "Source:\n",
    "\n",
    "http://www.eprg.org/G53DOC/pdfs/knuth-plass-breaking.pdf"
   ]
  },
  {
   "cell_type": "code",
   "execution_count": 45,
   "id": "31545921-1273-437b-bcc4-1e989b8b1504",
   "metadata": {},
   "outputs": [
    {
     "name": "stdout",
     "output_type": "stream",
     "text": [
      "Generated lorem ipsum:\n",
      "\n",
      "Dif­fi­cult Quick Foxes with 1034 boxes. Iusto no­bis in­cidunt nos­trum\n",
      "quas oc­cae­cati. Ex fa­cilis pariatur quam rep­re­hen­derit fugit\n",
      "magni. Eius do­lo­rum do­lo­rum maxime hic. Il­lum nemo neque\n",
      "con­secte­tur volup­ta­tum per­spi­ci­atis ab. Op­tio mo­les­tias no­bis\n",
      "er­ror facere libero. Harum ip­sam na­tus rep­re­hen­derit do­lore\n",
      "as­sumenda unde. Tene­tur ab cor­rupti rem modi quia fuga. Ali­quam\n",
      "pariatur do­lores esse con­secte­tur ipsa fugit. Beatae per­fer­endis\n",
      "alias deb­itis. Eius mi­nus volup­tas amet quis quae. Fuga cor­rupti\n",
      "lau­dan­tium in­cidunt in ipsa tem­pora. Unde ver­i­tatis quia iure\n",
      "volup­tatem fugit culpa. Min­ima ex­cep­turi saepe vero sit of­fi­cia.\n",
      "At eum rep­re­hen­derit ver­i­tatis quos. Neque pos­simus mo­les­tiae\n",
      "ver­i­tatis mo­les­tias autem fu­giat min­ima. Lau­dan­tium sapi­ente\n",
      "alias illo to­tam. Of­fi­cia sed so­luta harum in­cidunt. Nemo\n",
      "volup­tat­i­bus mag­nam ducimus la­bore of­ficiis. Earum modi sunt\n",
      "ex­pli­cabo to­tam ab. Se­qui labo­rum mo­les­tias sit a lau­dan­tium.\n",
      "Quas dis­tinc­tio ul­lam volup­tatem ver­i­tatis unde. An­imi\n",
      "ne­ces­si­tat­i­bus ni­hil iste sed. Debitis aut in­cidunt do­loribus\n",
      "of­ficiis iure. Maiores odio eius ne­ces­si­tat­i­bus eve­niet\n",
      "as­sumenda prae­sen­tium. Per­fer­endis min­ima enim. Lau­dan­tium\n",
      "deb­itis enim do­loribus. Atque oc­cae­cati nam ver­i­tatis cor­rupti\n",
      "tem­po­ribus. Lau­dan­tium porro nos­trum alias op­tio saepe. Magni\n",
      "adip­isci aut con­se­qu­un­tur vero so­luta. Eos fugit harum\n",
      "re­cu­san­dae blan­di­tiis nulla rem. Dolorem sunt fugit so­luta ea\n",
      "om­nis nisi.\n",
      "\n",
      "Repr of first part:\n",
      "'Dif\\xadfi\\xadcult Quick Foxes with 1034 boxes. Iusto no\\xadbis in\\xadcidunt [...]'\n"
     ]
    }
   ],
   "source": [
    "from faker import Faker\n",
    "import textwrap\n",
    "import hyphen\n",
    "import uniseg.wordbreak\n",
    "\n",
    "SOFT_HYPHEN = \"\\N{SOFT HYPHEN}\"\n",
    "def hyphenate(text: str):\n",
    "    hyphenator = hyphen.Hyphenator()\n",
    "    words = []\n",
    "    for word in uniseg.wordbreak.words(text):\n",
    "        syllables = hyphenator.syllables(word) if len(word) < 100 else [word]\n",
    "        if \"\".join(syllables) == word:\n",
    "            words.append(SOFT_HYPHEN.join(syllables))\n",
    "        else:\n",
    "            words.append(word)\n",
    "    return \"\".join(words)\n",
    "\n",
    "Faker.seed(0xdeadbeef)\n",
    "lorem = hyphenate(\"\".join([\n",
    "    \"Difficult Quick Foxes with 1034 boxes. \",\n",
    "    Faker([\"la\"]).paragraph(50)\n",
    "]))\n",
    "print(f\"Generated lorem ipsum:\\n\\n{textwrap.fill(lorem, 72)}\")\n",
    "print(f\"\\nRepr of first part:\\n{textwrap.shorten(lorem, 72)!r}\")"
   ]
  },
  {
   "cell_type": "code",
   "execution_count": 46,
   "id": "8bd27b4e-c764-431a-92e3-0d7085eb9c73",
   "metadata": {},
   "outputs": [
    {
     "name": "stdout",
     "output_type": "stream",
     "text": [
      "2.4000000000000004 3.2880000000000003\n"
     ]
    }
   ],
   "source": [
    "rm_face_path = \"EBGaramond-VariableFont_wght.ttf\"\n",
    "rm_size = 12\n",
    "rm_font = Font(path=rm_face_path, em_size=[rm_size, rm_size], features=[\"onum\"])\n",
    "\n",
    "def text_width(font, text):\n",
    "    return sum(g.x_advance for g in font.shape(text))\n",
    "\n",
    "rm_hyphen_width = text_width(rm_font, \"-\")\n",
    "rm_space_width = text_width(rm_font, \" \")\n",
    "print(rm_space_width, rm_hyphen_width)"
   ]
  },
  {
   "cell_type": "code",
   "execution_count": 47,
   "id": "eb64a9ba-7376-4644-8397-f98db2207ec0",
   "metadata": {},
   "outputs": [
    {
     "name": "stdout",
     "output_type": "stream",
     "text": [
      "Dif­|fi­|cult |Quick |Foxes |with |1034 |boxes. |Iusto |no­|bis\n",
      "|in­|cidunt |nos­|trum |quas |oc­|cae­|cati. |Ex |fa­|cilis |pariatur\n",
      "|quam |rep­|re­|hen­|derit |fugit |magni. |Eius |do­|lo­|rum\n",
      "|do­|lo­|rum |maxime |hic. |Il­|lum |nemo |neque |con­|secte­|tur\n",
      "|volup­|ta­|tum |per­|spi­|ci­|atis |ab. |Op­|tio |mo­|les­|tias\n",
      "|no­|bis |er­|ror |facere |libero. |Harum |ip­|sam |na­|tus\n",
      "|rep­|re­|hen­|derit |do­|lore |as­|sumenda |unde. |Tene­|tur |ab\n",
      "|cor­|rupti |rem |modi |quia |fuga. |Ali­|quam |pariatur |do­|lores\n",
      "|esse |con­|secte­|tur |ipsa |fugit. |Beatae |per­|fer­|endis |alias\n",
      "|deb­|itis. |Eius |mi­|nus |volup­|tas |amet |quis |quae. |Fuga\n",
      "|cor­|rupti |lau­|dan­|tium |in­|cidunt |in |ipsa |tem­|pora. |Unde\n",
      "|ver­|i­|tatis |quia |iure |volup­|tatem |fugit |culpa. |Min­|ima\n",
      "|ex­|cep­|turi |saepe |vero |sit |of­|fi­|cia. |At |eum\n",
      "|rep­|re­|hen­|derit |ver­|i­|tatis |quos. |Neque |pos­|simus\n",
      "|mo­|les­|tiae |ver­|i­|tatis |mo­|les­|tias |autem |fu­|giat |min­|ima.\n",
      "|Lau­|dan­|tium |sapi­|ente |alias |illo |to­|tam. |Of­|fi­|cia |sed\n",
      "|so­|luta |harum |in­|cidunt. |Nemo |volup­|tat­|i­|bus |mag­|nam\n",
      "|ducimus |la­|bore |of­|ficiis. |Earum |modi |sunt |ex­|pli­|cabo\n",
      "|to­|tam |ab. |Se­|qui |labo­|rum |mo­|les­|tias |sit |a\n",
      "|lau­|dan­|tium. |Quas |dis­|tinc­|tio |ul­|lam |volup­|tatem\n",
      "|ver­|i­|tatis |unde. |An­|imi |ne­|ces­|si­|tat­|i­|bus |ni­|hil |iste\n",
      "|sed. |Debitis |aut |in­|cidunt |do­|loribus |of­|ficiis |iure. |Maiores\n",
      "|odio |eius |ne­|ces­|si­|tat­|i­|bus |eve­|niet |as­|sumenda\n",
      "|prae­|sen­|tium. |Per­|fer­|endis |min­|ima |enim. |Lau­|dan­|tium\n",
      "|deb­|itis |enim |do­|loribus. |Atque |oc­|cae­|cati |nam |ver­|i­|tatis\n",
      "|cor­|rupti |tem­|po­|ribus. |Lau­|dan­|tium |porro |nos­|trum |alias\n",
      "|op­|tio |saepe. |Magni |adip­|isci |aut |con­|se­|qu­|un­|tur |vero\n",
      "|so­|luta. |Eos |fugit |harum |re­|cu­|san­|dae |blan­|di­|tiis |nulla\n",
      "|rem. |Dolorem |sunt |fugit |so­|luta |ea |om­|nis |nisi.\n"
     ]
    }
   ],
   "source": [
    "import uniseg.linebreak\n",
    "print(textwrap.fill(\"|\".join(uniseg.linebreak.line_break_units(lorem)), 72))"
   ]
  },
  {
   "cell_type": "code",
   "execution_count": 48,
   "id": "d8a2d03b-201e-470f-a83e-d9bc041a4b48",
   "metadata": {},
   "outputs": [],
   "source": [
    "import math\n",
    "\n",
    "SOFT_HYPHEN_PENALTY=50\n",
    "INFINITY = 1000  # penalties behyong this are viewed as \"infinite\".\n",
    "\n",
    "\n",
    "para_items: list[ParagraphItem] = []\n",
    "running_width: float = 0.0\n",
    "running_stems: list[str] = []\n",
    "for lb_item in uniseg.linebreak.line_break_units(lorem):\n",
    "    stem = lb_item.rstrip(f\" {SOFT_HYPHEN}\")\n",
    "    if len(stem) > 0:\n",
    "        running_stems.append(stem)\n",
    "        stem_width = text_width(rm_font, \"\".join(running_stems)) - running_width\n",
    "        running_width += stem_width\n",
    "        para_items.append(ParagraphItem(\n",
    "            item_type=ParagraphItemType.BOX,\n",
    "            width=stem_width,\n",
    "            text=stem,\n",
    "        ))\n",
    "    else:\n",
    "        running_stems, running_width = [], 0.0\n",
    "    if lb_item.endswith(SOFT_HYPHEN):\n",
    "        para_items.append(ParagraphItem(\n",
    "            item_type=ParagraphItemType.PENALTY,\n",
    "            width=rm_hyphen_width,\n",
    "            penalty=SOFT_HYPHEN_PENALTY,\n",
    "            flagged=True,\n",
    "            text=\"-\",\n",
    "        ))\n",
    "    elif lb_item.endswith(\" \"):\n",
    "        para_items.append(ParagraphItem(\n",
    "            item_type=ParagraphItemType.GLUE,\n",
    "            width=rm_space_width,\n",
    "            shrinkability=0.5*rm_space_width,\n",
    "            stretchability=2.0*rm_space_width,\n",
    "            text=\" \",\n",
    "        ))\n",
    "\n",
    "# Add finishing glue and forced break\n",
    "para_items.append(ParagraphItem(\n",
    "    item_type=ParagraphItemType.GLUE,\n",
    "    stretchability=INFINITY,\n",
    "))\n",
    "para_items.append(ParagraphItem(\n",
    "    item_type=ParagraphItemType.PENALTY,\n",
    "    penalty=-INFINITY,\n",
    "    flagged=True,\n",
    "))"
   ]
  },
  {
   "cell_type": "code",
   "execution_count": 49,
   "id": "fe1317fe-a71c-47d0-9849-2f583b98b6e2",
   "metadata": {},
   "outputs": [],
   "source": [
    "if False:\n",
    "    print(\"First few items:\")\n",
    "    print(\"\\n\".join(textwrap.indent(f\"{item!r}\", \"  \") for item in para_items[:10]))\n",
    "    print(\"Final few items:\")\n",
    "    print(\"\\n\".join(textwrap.indent(f\"{item!r}\", \"  \") for item in para_items[-10:]))"
   ]
  },
  {
   "cell_type": "code",
   "execution_count": 50,
   "id": "f3cfb3e4-31d9-4b6a-be0b-80efec53a24c",
   "metadata": {},
   "outputs": [],
   "source": [
    "from collections import namedtuple\n",
    "\n",
    "RunningSum = namedtuple(\"RunningSum\", [\"width\", \"shrinkability\", \"stretchability\"])\n",
    "def para_item_running_sums(para_items: Sequence[ParagraphItem]) -> Sequence[RunningSum]:\n",
    "    previous_sum = RunningSum(0, 0, 0)\n",
    "    sums = [previous_sum]\n",
    "    for item in para_items:\n",
    "        if item.item_type != ParagraphItemType.PENALTY:\n",
    "            previous_sum = RunningSum(\n",
    "                width=previous_sum.width + item.width,\n",
    "                shrinkability=previous_sum.shrinkability + item.shrinkability,\n",
    "                stretchability=previous_sum.stretchability + item.stretchability\n",
    "            )\n",
    "        sums.append(previous_sum)\n",
    "    return sums"
   ]
  },
  {
   "cell_type": "code",
   "execution_count": 51,
   "id": "09ee9a1f-0581-42fd-973f-f73f7b9bb46d",
   "metadata": {},
   "outputs": [],
   "source": [
    "def greedy_breaks(para_items: Sequence[ParagraphItem], width: float) -> Sequence[int]:\n",
    "    \"Return sequence of indices in para_items for line breaks.\"\n",
    "    sums = para_item_running_sums(para_items)\n",
    "    current_start_idx = 0\n",
    "    line_end_indxs = []\n",
    "    for item_idx, item in enumerate(para_items):\n",
    "        # Don't break lines at boxes.\n",
    "        if item.item_type == ParagraphItemType.BOX:\n",
    "            continue\n",
    "\n",
    "        # Forced break\n",
    "        if item.penalty <= -INFINITY:\n",
    "            line_end_indxs.append(item_idx)\n",
    "            current_start_idx = item_idx + 1\n",
    "            continue\n",
    "\n",
    "        # Compute natural width and total stretch/shrinkability\n",
    "        line_width = sums[item_idx].width - sums[current_start_idx].width\n",
    "        if item.item_type == ParagraphItemType.PENALTY:\n",
    "            line_width += item.width\n",
    "        line_shrinkability = sums[item_idx].shrinkability - sums[current_start_idx].shrinkability\n",
    "        line_stretchability = sums[item_idx].stretchability - sums[current_start_idx].stretchability\n",
    "\n",
    "        if line_width + line_stretchability < width:\n",
    "            continue\n",
    "\n",
    "        line_end_indxs.append(item_idx)\n",
    "        current_start_idx = item_idx + 1\n",
    "    return line_end_indxs"
   ]
  },
  {
   "cell_type": "code",
   "execution_count": 52,
   "id": "4e612b60-83fc-491d-aeaa-847636656fa0",
   "metadata": {},
   "outputs": [],
   "source": [
    "paper_size = (5 * 72, 5 * 72)\n",
    "line_width = paper_size[0] - rm_size * (2 + 3)\n",
    "line_break_idxs = greedy_breaks(para_items, line_width)"
   ]
  },
  {
   "cell_type": "code",
   "execution_count": 53,
   "id": "69b847a5-9068-41fd-aeb2-f1ed499dc5b9",
   "metadata": {},
   "outputs": [
    {
     "ename": "ModuleNotFoundError",
     "evalue": "No module named 'cairo'",
     "output_type": "error",
     "traceback": [
      "\u001b[0;31m---------------------------------------------------------------------------\u001b[0m",
      "\u001b[0;31mModuleNotFoundError\u001b[0m                       Traceback (most recent call last)",
      "Cell \u001b[0;32mIn[53], line 1\u001b[0m\n\u001b[0;32m----> 1\u001b[0m \u001b[38;5;28;01mfrom\u001b[39;00m \u001b[38;5;21;01mtypesetting\u001b[39;00m\u001b[38;5;21;01m.\u001b[39;00m\u001b[38;5;21;01mcairo\u001b[39;00m \u001b[38;5;28;01mimport\u001b[39;00m create_cairo_font_face_for_ft_face\n",
      "File \u001b[0;32m~/projects/knuth-plass-line-breaking/typesetting/cairo.py:3\u001b[0m\n\u001b[1;32m      1\u001b[0m \u001b[38;5;28;01mfrom\u001b[39;00m \u001b[38;5;21;01mtyping\u001b[39;00m \u001b[38;5;28;01mimport\u001b[39;00m Sequence\n\u001b[0;32m----> 3\u001b[0m \u001b[38;5;28;01mimport\u001b[39;00m \u001b[38;5;21;01mcairo\u001b[39;00m\n\u001b[1;32m      5\u001b[0m \u001b[38;5;28;01mfrom\u001b[39;00m \u001b[38;5;21;01m.\u001b[39;00m\u001b[38;5;21;01m_cairofontface\u001b[39;00m \u001b[38;5;28;01mimport\u001b[39;00m create_cairo_font_face_for_ft_face\n\u001b[1;32m      6\u001b[0m \u001b[38;5;28;01mfrom\u001b[39;00m \u001b[38;5;21;01m.\u001b[39;00m\u001b[38;5;21;01mfont\u001b[39;00m \u001b[38;5;28;01mimport\u001b[39;00m Font, Glyph\n",
      "\u001b[0;31mModuleNotFoundError\u001b[0m: No module named 'cairo'"
     ]
    }
   ],
   "source": [
    "from typesetting.cairo import create_cairo_font_face_for_ft_face"
   ]
  },
  {
   "cell_type": "code",
   "execution_count": 41,
   "id": "383e1760-ae84-4acc-876b-c6fd340f5d0b",
   "metadata": {},
   "outputs": [
    {
     "ename": "TypeError",
     "evalue": "SVGSurface.create() takes 3 positional arguments but 4 were given",
     "output_type": "error",
     "traceback": [
      "\u001b[0;31m---------------------------------------------------------------------------\u001b[0m",
      "\u001b[0;31mTypeError\u001b[0m                                 Traceback (most recent call last)",
      "Cell \u001b[0;32mIn[41], line 6\u001b[0m\n\u001b[1;32m      3\u001b[0m \u001b[38;5;28;01mimport\u001b[39;00m \u001b[38;5;21;01mcffi\u001b[39;00m\n\u001b[1;32m      5\u001b[0m svg_file \u001b[38;5;241m=\u001b[39m io\u001b[38;5;241m.\u001b[39mBytesIO()\n\u001b[0;32m----> 6\u001b[0m surface \u001b[38;5;241m=\u001b[39m \u001b[43mqahirah\u001b[49m\u001b[38;5;241;43m.\u001b[39;49m\u001b[43mSVGSurface\u001b[49m\u001b[38;5;241;43m.\u001b[39;49m\u001b[43mcreate\u001b[49m\u001b[43m(\u001b[49m\u001b[43msvg_file\u001b[49m\u001b[43m,\u001b[49m\u001b[43m \u001b[49m\u001b[43mpaper_size\u001b[49m\u001b[43m[\u001b[49m\u001b[38;5;241;43m0\u001b[39;49m\u001b[43m]\u001b[49m\u001b[43m,\u001b[49m\u001b[43m \u001b[49m\u001b[43mpaper_size\u001b[49m\u001b[43m[\u001b[49m\u001b[38;5;241;43m1\u001b[39;49m\u001b[43m]\u001b[49m\u001b[43m)\u001b[49m\n\u001b[1;32m      7\u001b[0m ctx \u001b[38;5;241m=\u001b[39m qahirah\u001b[38;5;241m.\u001b[39mContext(surface)\n\u001b[1;32m      8\u001b[0m \u001b[38;5;28;01mwith\u001b[39;00m ctx:\n",
      "\u001b[0;31mTypeError\u001b[0m: SVGSurface.create() takes 3 positional arguments but 4 were given"
     ]
    }
   ],
   "source": [
    "import io\n",
    "from IPython.display import display, SVG\n",
    "import cffi\n",
    "\n",
    "svg_file = io.BytesIO()\n",
    "surface = cairo.SVGSurface(svg_file, paper_size[0], paper_size[1])\n",
    "ctx = cairo.Context(surface)\n",
    "with ctx:\n",
    "    ctx.set_source_rgb(1, 1, 1)\n",
    "    ctx.rectangle(0, 0, paper_size[0], paper_size[1])\n",
    "    ctx.fill()\n",
    "    ctx.set_source_rgb(0, 0, 0)\n",
    "    ctx.set_font_face(cairo_rm_face)\n",
    "surface.finish()\n",
    "\n",
    "display(SVG(svg_file.getvalue()))"
   ]
  },
  {
   "cell_type": "code",
   "execution_count": 29,
   "id": "1336db73-ff2e-4eba-9da6-2568d770a8d0",
   "metadata": {},
   "outputs": [],
   "source": [
    "from fpdf import FPDF\n",
    "def make_pdf(*args, **kwargs):\n",
    "    pdf = FPDF(*args, orientation=\"P\", unit=\"pt\", format=\"A4\", **kwargs)\n",
    "    pdf.add_font(family=\"Roman\", fname=rm_face_path)\n",
    "    pdf.set_font(\"Roman\", size=rm_size)\n",
    "    pdf.set_text_shaping(use_shaping_engine=True, features={\"kern\": True, \"liga\": True, \"onum\": True})\n",
    "    return pdf\n",
    "\n",
    "pdf = make_pdf()\n",
    "pdf.add_page()\n",
    "\n",
    "line_start_idx = 0\n",
    "line_height = rm_size * 1.2\n",
    "for line_idx, line_end_idx in enumerate(line_break_idxs):\n",
    "    y = line_height*(1+line_idx)\n",
    "    line_items = []\n",
    "    x = rm_size\n",
    "    running_text, running_width = [], 0.0\n",
    "\n",
    "    # What delta needs to be taken up by glue\n",
    "    natural_width = 0.0\n",
    "    total_stretch, total_shink = 0.0, 0.0\n",
    "    for item_idx in range(line_start_idx, line_end_idx+1):\n",
    "        item = para_items[item_idx]\n",
    "        if item_idx != line_end_idx and item.item_type == ParagraphItemType.PENALTY:\n",
    "            continue\n",
    "        if item_idx == line_end_idx and item.item_type == ParagraphItemType.GLUE:\n",
    "            continue\n",
    "        natural_width += item.width\n",
    "        total_stretch += item.stretchability\n",
    "        total_shink = item.shrinkability\n",
    "    delta = line_width - natural_width\n",
    "\n",
    "    # Total slack for delta\n",
    "    if delta > 0.0:\n",
    "        adjustment_ratio = delta / total_stretch\n",
    "    else:\n",
    "        adjustment_ratio = delta / total_shrink\n",
    "    \n",
    "    for item_idx in range(line_start_idx, line_end_idx+1):\n",
    "        item = para_items[item_idx]\n",
    "        if item_idx != line_end_idx and item.item_type == ParagraphItemType.PENALTY:\n",
    "            continue\n",
    "        if item_idx == line_end_idx and item.item_type == ParagraphItemType.GLUE:\n",
    "            continue\n",
    "        running_width += item.width\n",
    "        if item.item_type == ParagraphItemType.GLUE:\n",
    "            text = \"\".join(running_text)\n",
    "            if text != \"\":\n",
    "                pdf.text(x=x, y=y, txt=text)\n",
    "            x += running_width\n",
    "            if adjustment_ratio > 0:\n",
    "                x += item.stretchability * adjustment_ratio\n",
    "            else:\n",
    "                x += item.shrinkability * adjustment_ratio\n",
    "\n",
    "            running_text, running_width = [], 0.0\n",
    "        else:\n",
    "            running_text.append(item.text)\n",
    "    text = \"\".join(running_text)\n",
    "    if text != \"\":\n",
    "        pdf.text(x=x, y=y, txt=text)\n",
    "    line_start_idx = line_end_idx+1\n",
    "pdf.output(\"example.pdf\")"
   ]
  },
  {
   "cell_type": "code",
   "execution_count": null,
   "id": "bf8d8fe9-b51a-476f-89f7-b30741122d21",
   "metadata": {},
   "outputs": [],
   "source": []
  }
 ],
 "metadata": {
  "kernelspec": {
   "display_name": "Python 3 (ipykernel)",
   "language": "python",
   "name": "python3"
  },
  "language_info": {
   "codemirror_mode": {
    "name": "ipython",
    "version": 3
   },
   "file_extension": ".py",
   "mimetype": "text/x-python",
   "name": "python",
   "nbconvert_exporter": "python",
   "pygments_lexer": "ipython3",
   "version": "3.11.4"
  }
 },
 "nbformat": 4,
 "nbformat_minor": 5
}
